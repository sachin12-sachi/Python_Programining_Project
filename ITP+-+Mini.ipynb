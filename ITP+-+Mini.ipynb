{
 "cells": [
  {
   "cell_type": "markdown",
   "id": "8614ebca",
   "metadata": {},
   "source": [
    "                                        ## ITP Mini Project\n",
    "                                       Courier Management System\n"
   ]
  },
  {
   "cell_type": "code",
   "execution_count": 1,
   "id": "8821a251",
   "metadata": {},
   "outputs": [],
   "source": [
    "import pandas as pd\n",
    "import numpy as np\n"
   ]
  },
  {
   "cell_type": "code",
   "execution_count": 2,
   "id": "467d8f93",
   "metadata": {},
   "outputs": [],
   "source": [
    "#Q1. Create a Dictionary of lists to store the information of shipments given in the table"
   ]
  },
  {
   "cell_type": "code",
   "execution_count": 3,
   "id": "a571e2ee",
   "metadata": {},
   "outputs": [
    {
     "name": "stdout",
     "output_type": "stream",
     "text": [
      "[{'shipment_id': 101, 'sender': 1, 'receiver': 3, 'start_date': datetime.datetime(2020, 3, 14, 0, 0), 'delivery_date': datetime.datetime(2020, 3, 25, 0, 0), 'sender_location': 'Area1', 'receiver_location': 'Area6', 'delivery_status': 'Delivered', 'shipping_cost': 198}, {'shipment_id': 102, 'sender': 4, 'receiver': 1, 'start_date': datetime.datetime(2020, 6, 18, 0, 0), 'delivery_date': datetime.datetime(2020, 7, 9, 0, 0), 'sender_location': 'Area2', 'receiver_location': 'Area4', 'delivery_status': 'Delivered', 'shipping_cost': 275}, {'shipment_id': 103, 'sender': 1, 'receiver': 3, 'start_date': datetime.datetime(2020, 12, 1, 0, 0), 'delivery_date': None, 'sender_location': 'Area5', 'receiver_location': 'Area1', 'delivery_status': 'In-Transit', 'shipping_cost': 200}, {'shipment_id': 104, 'sender': 1, 'receiver': 3, 'start_date': datetime.datetime(2020, 6, 23, 0, 0), 'delivery_date': datetime.datetime(2020, 6, 25, 0, 0), 'sender_location': 'Area1', 'receiver_location': 'Area4', 'delivery_status': 'Delivered', 'shipping_cost': 314}, {'shipment_id': 105, 'sender': 1, 'receiver': 3, 'start_date': datetime.datetime(2020, 8, 29, 0, 0), 'delivery_date': datetime.datetime(2020, 9, 20, 0, 0), 'sender_location': 'Area5', 'receiver_location': 'Area3', 'delivery_status': 'Delivered', 'shipping_cost': 275}, {'shipment_id': 106, 'sender': 1, 'receiver': 3, 'start_date': datetime.datetime(2020, 6, 28, 0, 0), 'delivery_date': None, 'sender_location': 'Area3', 'receiver_location': 'Area1', 'delivery_status': 'In-Transit', 'shipping_cost': 270}]\n"
     ]
    }
   ],
   "source": [
    "import datetime\n",
    "shipment_list = [{\"shipment_id\": 101, \"sender\": 1, \"receiver\": 3, \"start_date\": datetime.datetime(2020, 3, 14), \"delivery_date\": datetime.datetime(2020, 3, 25), \"sender_location\": \"Area1\", \"receiver_location\": \"Area6\", \"delivery_status\": \"Delivered\", \"shipping_cost\": 198},\n",
    "                 {\"shipment_id\": 102, \"sender\": 4, \"receiver\": 1, \"start_date\": datetime.datetime(2020, 6, 18), \"delivery_date\": datetime.datetime(\n",
    "                     2020, 7, 9), \"sender_location\": \"Area2\", \"receiver_location\": \"Area4\", \"delivery_status\": \"Delivered\", \"shipping_cost\": 275},\n",
    "                 {\"shipment_id\": 103, \"sender\": 1, \"receiver\": 3, \"start_date\": datetime.datetime(2020, 12, 1), \"delivery_date\": None, \"sender_location\": \"Area5\", \"receiver_location\": \"Area1\", \"delivery_status\": \"In-Transit\", \"shipping_cost\": 200},\n",
    "                 {\"shipment_id\": 104, \"sender\": 1, \"receiver\": 3, \"start_date\": datetime.datetime(2020, 6, 23), \"delivery_date\": datetime.datetime(\n",
    "                     2020, 6, 25), \"sender_location\": \"Area1\", \"receiver_location\": \"Area4\", \"delivery_status\": \"Delivered\", \"shipping_cost\": 314},\n",
    "                 {\"shipment_id\": 105, \"sender\": 1, \"receiver\": 3, \"start_date\": datetime.datetime(2020, 8, 29), \"delivery_date\": datetime.datetime(\n",
    "                     2020, 9, 20), \"sender_location\": \"Area5\", \"receiver_location\": \"Area3\", \"delivery_status\": \"Delivered\", \"shipping_cost\": 275},\n",
    "                 {\"shipment_id\": 106, \"sender\": 1, \"receiver\": 3, \"start_date\": datetime.datetime(2020, 6, 28), \"delivery_date\": None, \"sender_location\": \"Area3\", \"receiver_location\": \"Area1\", \"delivery_status\": \"In-Transit\", \"shipping_cost\": 270}]\n",
    "print(shipment_list)"
   ]
  },
  {
   "cell_type": "code",
   "execution_count": 4,
   "id": "eeabcb7d",
   "metadata": {},
   "outputs": [],
   "source": [
    "#Q2. Create a Dictionary of to store the information of clients given in the table"
   ]
  },
  {
   "cell_type": "code",
   "execution_count": 5,
   "id": "415ee9a6",
   "metadata": {},
   "outputs": [],
   "source": [
    " clients ={1:'Phillip',2:'Omega  lll',3:'Ramya',4:'Romesh',5:'John'}"
   ]
  },
  {
   "cell_type": "code",
   "execution_count": 6,
   "id": "8212ed51",
   "metadata": {},
   "outputs": [],
   "source": [
    "#Q3.Write a code to replace client’s id with their respective name in shipment dictionary using a loop and dictionary comprehension"
   ]
  },
  {
   "cell_type": "code",
   "execution_count": 7,
   "id": "72082c35",
   "metadata": {},
   "outputs": [
    {
     "name": "stdout",
     "output_type": "stream",
     "text": [
      "{101: ['Phillip', 'Ramya', '14-3-2020', '25-3-2020', 'Area1', 'Area6', 'Delivered', 198], 102: ['Romesh', 'Phillip', '18-6-2020', '9-7-2020', 'Area2', 'Area4', 'Delivered', 275], 103: ['Omega  lll', 'Ramya', '1-12-2020', 'Null', 'Areas5', 'Area1', 'In-transit', 200], 104: ['Phillip', 'John', '23-6-2020', '25-6-2020', 'Area1', 'Area4', 'Delivered', 314], 105: ['Ramya', 'Romesh', '29-8-2020', '10-9-2020', 'Area5', 'Area3', 'delivered', 275], 106: ['John', 'Omega  lll', '28-6-2020', 'Null', 'Area3', 'Area1', 'In-Transit', 270]}"
     ]
    }
   ],
   "source": [
    "shipment={101:[1,3,'14-3-2020','25-3-2020','Area1','Area6','Delivered',198],\n",
    "      102:[4,1,'18-6-2020','9-7-2020','Area2','Area4','Delivered',275],\n",
    "      103:[2,3,'1-12-2020','Null','Areas5','Area1','In-transit',200],\n",
    "      104:[1,5,'23-6-2020','25-6-2020','Area1','Area4','Delivered',314],\n",
    "      105:[3,4,'29-8-2020','10-9-2020','Area5','Area3','delivered',275],\n",
    "      106:[5,2,'28-6-2020','Null','Area3','Area1','In-Transit',270]}\n",
    "\n",
    "client_data={1:'Phillip',2:'Omega  lll',3:'Ramya',4:'Romesh',5:'John'} \n",
    "\n",
    "result={k:[client_data.get(s,s) for s in s] for k, s in shipment.items()}\n",
    "print(result,end='')"
   ]
  },
  {
   "cell_type": "code",
   "execution_count": 8,
   "id": "8830aaa6",
   "metadata": {},
   "outputs": [
    {
     "data": {
      "text/plain": [
       "{101: ['Phillip',\n",
       "  'Ramya',\n",
       "  '14-3-2020',\n",
       "  '25-3-2020',\n",
       "  'Area1',\n",
       "  'Area6',\n",
       "  'Delivered',\n",
       "  198],\n",
       " 102: ['Romesh',\n",
       "  'Phillip',\n",
       "  '18-6-2020',\n",
       "  '9-7-2020',\n",
       "  'Area2',\n",
       "  'Area4',\n",
       "  'Delivered',\n",
       "  275],\n",
       " 103: ['Omega  lll',\n",
       "  'Ramya',\n",
       "  '1-12-2020',\n",
       "  'Null',\n",
       "  'Areas5',\n",
       "  'Area1',\n",
       "  'In-transit',\n",
       "  200],\n",
       " 104: ['Phillip',\n",
       "  'John',\n",
       "  '23-6-2020',\n",
       "  '25-6-2020',\n",
       "  'Area1',\n",
       "  'Area4',\n",
       "  'Delivered',\n",
       "  314],\n",
       " 105: ['Ramya',\n",
       "  'Romesh',\n",
       "  '29-8-2020',\n",
       "  '10-9-2020',\n",
       "  'Area5',\n",
       "  'Area3',\n",
       "  'delivered',\n",
       "  275],\n",
       " 106: ['John',\n",
       "  'Omega  lll',\n",
       "  '28-6-2020',\n",
       "  'Null',\n",
       "  'Area3',\n",
       "  'Area1',\n",
       "  'In-Transit',\n",
       "  270]}"
      ]
     },
     "execution_count": 8,
     "metadata": {},
     "output_type": "execute_result"
    }
   ],
   "source": [
    "result"
   ]
  },
  {
   "cell_type": "code",
   "execution_count": 9,
   "id": "68311bfc",
   "metadata": {},
   "outputs": [
    {
     "name": "stdout",
     "output_type": "stream",
     "text": [
      "Phillip\n"
     ]
    }
   ],
   "source": [
    "print(result[101][0])"
   ]
  },
  {
   "cell_type": "code",
   "execution_count": 10,
   "id": "458b0412",
   "metadata": {},
   "outputs": [
    {
     "name": "stdout",
     "output_type": "stream",
     "text": [
      "(101, ['Phillip', 'Ramya', '14-3-2020', '25-3-2020', 'Area1', 'Area6', 'Delivered', 198])\n",
      "(102, ['Romesh', 'Phillip', '18-6-2020', '9-7-2020', 'Area2', 'Area4', 'Delivered', 275])\n",
      "(103, ['Omega  lll', 'Ramya', '1-12-2020', 'Null', 'Areas5', 'Area1', 'In-transit', 200])\n",
      "(104, ['Phillip', 'John', '23-6-2020', '25-6-2020', 'Area1', 'Area4', 'Delivered', 314])\n",
      "(105, ['Ramya', 'Romesh', '29-8-2020', '10-9-2020', 'Area5', 'Area3', 'delivered', 275])\n",
      "(106, ['John', 'Omega  lll', '28-6-2020', 'Null', 'Area3', 'Area1', 'In-Transit', 270])\n"
     ]
    }
   ],
   "source": [
    "for i in result.items():\n",
    "    print(i)"
   ]
  },
  {
   "cell_type": "code",
   "execution_count": 11,
   "id": "1865d05b",
   "metadata": {},
   "outputs": [
    {
     "name": "stdout",
     "output_type": "stream",
     "text": [
      "101 ['Phillip', 'Ramya', '14-3-2020', '25-3-2020', 'Area1', 'Area6', 'Delivered', 198]\n",
      "102 ['Romesh', 'Phillip', '18-6-2020', '9-7-2020', 'Area2', 'Area4', 'Delivered', 275]\n",
      "103 ['Omega  lll', 'Ramya', '1-12-2020', 'Null', 'Areas5', 'Area1', 'In-transit', 200]\n",
      "104 ['Phillip', 'John', '23-6-2020', '25-6-2020', 'Area1', 'Area4', 'Delivered', 314]\n",
      "105 ['Ramya', 'Romesh', '29-8-2020', '10-9-2020', 'Area5', 'Area3', 'delivered', 275]\n",
      "106 ['John', 'Omega  lll', '28-6-2020', 'Null', 'Area3', 'Area1', 'In-Transit', 270]\n"
     ]
    }
   ],
   "source": [
    "for i , j in result.items():\n",
    "    print(i,j)"
   ]
  },
  {
   "cell_type": "code",
   "execution_count": 12,
   "id": "fbc8fcf0",
   "metadata": {},
   "outputs": [
    {
     "name": "stdout",
     "output_type": "stream",
     "text": [
      "Phillip\n",
      "Romesh\n",
      "Omega  lll\n",
      "Phillip\n",
      "Ramya\n",
      "John\n"
     ]
    }
   ],
   "source": [
    "for i,j in result.items():\n",
    "    print(j[0])"
   ]
  },
  {
   "cell_type": "code",
   "execution_count": 13,
   "id": "9c5deaf2",
   "metadata": {},
   "outputs": [],
   "source": [
    "#Q4. Print all shipment details that are sent by Phillip"
   ]
  },
  {
   "cell_type": "code",
   "execution_count": 14,
   "id": "bae1b3b6",
   "metadata": {},
   "outputs": [
    {
     "name": "stdout",
     "output_type": "stream",
     "text": [
      "101 ['Phillip', 'Ramya', '14-3-2020', '25-3-2020', 'Area1', 'Area6', 'Delivered', 198]\n",
      "104 ['Phillip', 'John', '23-6-2020', '25-6-2020', 'Area1', 'Area4', 'Delivered', 314]\n"
     ]
    }
   ],
   "source": [
    "for i, j in result.items():\n",
    "    if j[0]=='Phillip':\n",
    "        print(i,j)"
   ]
  },
  {
   "cell_type": "code",
   "execution_count": 15,
   "id": "90ccf883",
   "metadata": {},
   "outputs": [],
   "source": [
    "for i, j in result.items():\n",
    "    if j[4]=='Ramya':\n",
    "        print(i,j)"
   ]
  },
  {
   "cell_type": "code",
   "execution_count": 16,
   "id": "4670f797",
   "metadata": {},
   "outputs": [
    {
     "name": "stdout",
     "output_type": "stream",
     "text": [
      "39\n"
     ]
    }
   ],
   "source": [
    "from datetime import date\n",
    "\n",
    "d0 = date(2008, 8, 18)\n",
    "d1 = date(2008, 9, 26)\n",
    "delta = d1 - d0\n",
    "print(delta.days)\n"
   ]
  },
  {
   "cell_type": "code",
   "execution_count": 17,
   "id": "337d6534",
   "metadata": {},
   "outputs": [
    {
     "name": "stdout",
     "output_type": "stream",
     "text": [
      "['Ramya', 'Romesh', '29-8-2020', '10-9-2020', 'Area5', 'Area3', 'delivered', 275]\n"
     ]
    }
   ],
   "source": [
    "for i, j in result.items():\n",
    "    if j[0]=='Ramya':\n",
    "        print(j)"
   ]
  },
  {
   "cell_type": "code",
   "execution_count": 18,
   "id": "054ebc94",
   "metadata": {},
   "outputs": [],
   "source": [
    "#Q6. Print all shipments which are in 'In-Transit' status"
   ]
  },
  {
   "cell_type": "code",
   "execution_count": 31,
   "id": "bbd9b913",
   "metadata": {},
   "outputs": [
    {
     "name": "stdout",
     "output_type": "stream",
     "text": [
      "[2, 3, datetime.datetime(2020, 12, 1, 0, 0), None, 'Area5', 'Area1', 'In-Transit', 200]\n",
      "[5, 2, datetime.datetime(2020, 6, 28, 0, 0), None, 'Area3', 'Area1', 'In-Transit', 270]\n"
     ]
    }
   ],
   "source": [
    "for i, j in shipment.items():\n",
    "    if type(j[3])!=type(j[2]):\n",
    "        print(j)"
   ]
  },
  {
   "cell_type": "code",
   "execution_count": 20,
   "id": "c532456f",
   "metadata": {},
   "outputs": [],
   "source": [
    "#Q7. Print all shipments which are delivered within 7 days of courier Start date"
   ]
  },
  {
   "cell_type": "code",
   "execution_count": 1,
   "id": "54a4b6e6",
   "metadata": {},
   "outputs": [],
   "source": [
    "import datetime\n",
    "shipment = {\n",
    "      \n",
    "101 : [1 , 3 , datetime.datetime (2020, 3, 14) , datetime.datetime (2020, 3, 25), 'Area1', 'Area6' , 'Delivered' , 198  ],\n",
    "102 : [4 , 1 , datetime.datetime (2020, 6, 18) ,datetime.datetime (2020, 7, 9), 'Area2', 'Area4' , 'Delivered' , 275   ],\n",
    "103 : [2 , 3 , datetime.datetime (2020, 12, 1) , None             , 'Area5', 'Area1' , 'In-Transit' , 200    ] ,\n",
    "104 : [1 , 5 , datetime.datetime ( 2020, 6, 23 ),datetime.datetime (2020, 6, 25) , 'Area1', 'Area4' , 'Delivered' , 314],\n",
    "105 : [3 , 4 , datetime.datetime (2020, 8, 29 ), datetime.datetime (2020, 9, 10) , 'Area5', 'Area3' , 'Delivered' , 275],\n",
    "106 : [5 , 2 , datetime.datetime (2020, 6, 28) , None                 , 'Area3', 'Area1' , 'In-Transit' , 270   ] ,\n",
    "       \n",
    "      }\n"
   ]
  },
  {
   "cell_type": "code",
   "execution_count": 22,
   "id": "151bcaea",
   "metadata": {},
   "outputs": [
    {
     "name": "stdout",
     "output_type": "stream",
     "text": [
      "                   101                  102                  103  \\\n",
      "0                    1                    4                    2   \n",
      "1                    3                    1                    3   \n",
      "2  2020-03-14 00:00:00  2020-06-18 00:00:00  2020-12-01 00:00:00   \n",
      "3  2020-03-25 00:00:00  2020-07-09 00:00:00                 None   \n",
      "4                Area1                Area2                Area5   \n",
      "5                Area6                Area4                Area1   \n",
      "6            Delivered            Delivered           In-Transit   \n",
      "7                  198                  275                  200   \n",
      "\n",
      "                   104                  105                  106  \n",
      "0                    1                    3                    5  \n",
      "1                    5                    4                    2  \n",
      "2  2020-06-23 00:00:00  2020-08-29 00:00:00  2020-06-28 00:00:00  \n",
      "3  2020-06-25 00:00:00  2020-09-10 00:00:00                 None  \n",
      "4                Area1                Area5                Area3  \n",
      "5                Area4                Area3                Area1  \n",
      "6            Delivered            Delivered           In-Transit  \n",
      "7                  314                  275                  270  \n"
     ]
    }
   ],
   "source": [
    "df = pd.DataFrame(shipment)\n",
    "\n",
    "print(df)\n"
   ]
  },
  {
   "cell_type": "code",
   "execution_count": 23,
   "id": "9623a43a",
   "metadata": {},
   "outputs": [
    {
     "name": "stdout",
     "output_type": "stream",
     "text": [
      "[1, 3, datetime.datetime(2020, 3, 14, 0, 0), datetime.datetime(2020, 3, 25, 0, 0), 'Area1', 'Area6', 'Delivered', 198]\n",
      "[4, 1, datetime.datetime(2020, 6, 18, 0, 0), datetime.datetime(2020, 7, 9, 0, 0), 'Area2', 'Area4', 'Delivered', 275]\n",
      "[1, 5, datetime.datetime(2020, 6, 23, 0, 0), datetime.datetime(2020, 6, 25, 0, 0), 'Area1', 'Area4', 'Delivered', 314]\n",
      "[3, 4, datetime.datetime(2020, 8, 29, 0, 0), datetime.datetime(2020, 9, 10, 0, 0), 'Area5', 'Area3', 'Delivered', 275]\n"
     ]
    }
   ],
   "source": [
    "for i , j in shipment.items():\n",
    "    if type(j[3]) == type(j[2]):\n",
    "        print(j)\n"
   ]
  },
  {
   "cell_type": "code",
   "execution_count": 24,
   "id": "8691ef24",
   "metadata": {},
   "outputs": [
    {
     "name": "stdout",
     "output_type": "stream",
     "text": [
      "11 days, 0:00:00\n",
      "21 days, 0:00:00\n",
      "2 days, 0:00:00\n",
      "12 days, 0:00:00\n"
     ]
    }
   ],
   "source": [
    "for i , j in shipment.items():\n",
    "    if type(j[3]) == type(j[2]):\n",
    "        print(j[3]-j[2])\n"
   ]
  },
  {
   "cell_type": "code",
   "execution_count": 25,
   "id": "78a1b5da",
   "metadata": {},
   "outputs": [
    {
     "name": "stdout",
     "output_type": "stream",
     "text": [
      "11\n",
      "21\n",
      "2\n",
      "12\n"
     ]
    }
   ],
   "source": [
    "for i , j in shipment.items():\n",
    "    if type(j[3]) == type(j[2]):\n",
    "        diff = j[3]-j[2]\n",
    "        print(diff.days)\n"
   ]
  },
  {
   "cell_type": "code",
   "execution_count": 26,
   "id": "dde2d2d8",
   "metadata": {},
   "outputs": [
    {
     "name": "stdout",
     "output_type": "stream",
     "text": [
      "104 [1, 5, datetime.datetime(2020, 6, 23, 0, 0), datetime.datetime(2020, 6, 25, 0, 0), 'Area1', 'Area4', 'Delivered', 314]\n"
     ]
    }
   ],
   "source": [
    "for i , j in shipment.items():\n",
    "    if type(j[3]) == type(j[2]):\n",
    "        diff = j[3]-j[2]\n",
    "        if (diff.days < 7):\n",
    "            print (i,j)\n"
   ]
  },
  {
   "cell_type": "code",
   "execution_count": null,
   "id": "d8e730ae",
   "metadata": {},
   "outputs": [],
   "source": []
  },
  {
   "cell_type": "code",
   "execution_count": 27,
   "id": "f1d34046",
   "metadata": {},
   "outputs": [],
   "source": [
    "#Q8. Print all shipments which are delivered after 15 days of courier start date or not yet been delivered."
   ]
  },
  {
   "cell_type": "code",
   "execution_count": 28,
   "id": "5e0f2500",
   "metadata": {},
   "outputs": [
    {
     "name": "stdout",
     "output_type": "stream",
     "text": [
      "[2, 3, datetime.datetime(2020, 12, 1, 0, 0), None, 'Area5', 'Area1', 'In-Transit', 200]\n",
      "[5, 2, datetime.datetime(2020, 6, 28, 0, 0), None, 'Area3', 'Area1', 'In-Transit', 270]\n"
     ]
    }
   ],
   "source": [
    "# yet been delivered.\n",
    "for i , j in shipment.items():\n",
    "    if type(j[3]) != type(j[2]):\n",
    "        print (j)\n"
   ]
  },
  {
   "cell_type": "code",
   "execution_count": 29,
   "id": "eeddbd73",
   "metadata": {},
   "outputs": [
    {
     "name": "stdout",
     "output_type": "stream",
     "text": [
      "[4, 1, datetime.datetime(2020, 6, 18, 0, 0), datetime.datetime(2020, 7, 9, 0, 0), 'Area2', 'Area4', 'Delivered', 275]\n"
     ]
    }
   ],
   "source": [
    "for i, j in shipment.items():\n",
    "    if type(j[3])==type(j[2]):\n",
    "        diff=j[3]-j[2]\n",
    "        if diff.days>15:\n",
    "            print(j)"
   ]
  },
  {
   "cell_type": "code",
   "execution_count": 30,
   "id": "365ea50c",
   "metadata": {},
   "outputs": [
    {
     "ename": "SyntaxError",
     "evalue": "invalid syntax (Temp/ipykernel_44284/3569382060.py, line 1)",
     "output_type": "error",
     "traceback": [
      "\u001b[1;36m  File \u001b[1;32m\"C:\\Users\\sm330\\AppData\\Local\\Temp/ipykernel_44284/3569382060.py\"\u001b[1;36m, line \u001b[1;32m1\u001b[0m\n\u001b[1;33m    Q 9. Write a function find_all_routes to display all possible routes from senders location to receivers location given in the dictionary for each shipment\u001b[0m\n\u001b[1;37m      ^\u001b[0m\n\u001b[1;31mSyntaxError\u001b[0m\u001b[1;31m:\u001b[0m invalid syntax\n"
     ]
    }
   ],
   "source": [
    "Q 9. Write a function find_all_routes to display all possible routes from senders location to receivers location given in the dictionary for each shipment"
   ]
  },
  {
   "cell_type": "code",
   "execution_count": 32,
   "id": "f3af4003",
   "metadata": {},
   "outputs": [
    {
     "name": "stdout",
     "output_type": "stream",
     "text": [
      "pathfound [5, 4, 2]\n",
      "back\n",
      "back\n",
      "back\n",
      "back\n",
      "pathfound [5, 4, 3, 2]\n",
      "back\n",
      "back\n",
      "back\n",
      "back\n",
      "back\n"
     ]
    }
   ],
   "source": [
    "def retunpath(startindex):\n",
    "    possible=[]\n",
    "    for x in range(0,len(route[startindex-1])):\n",
    "        if (route[startindex-1][x]==1):\n",
    "            possible.append(x+1)\n",
    "    return possible\n",
    "route =[\n",
    "    [0,1,0,0,0,1],\n",
    "    [1,0,1,1,0,0],\n",
    "    [0,1,0,1,0,0],\n",
    "    [0,1,1,0,1,0],\n",
    "    [0,0,0,1,0,0],\n",
    "    [1,0,0,0,0,0]\n",
    "]\n",
    "level =1\n",
    "start =5\n",
    "end =2\n",
    "possiblepath =[]\n",
    "visitednode ={}\n",
    "flowstart =[]\n",
    "temp =[]\n",
    "front= True\n",
    "while(1):\n",
    "    if(front):\n",
    "        flowstart.append(start)\n",
    "    possiblepath = retunpath(start).copy()\n",
    "    if(not front):\n",
    "        for y in visitednode[level]:\n",
    "            temp = [y[0],y[1]]\n",
    "            if (temp in visitednode[level] and (possiblepath.count(y[1]))):\n",
    "                possiblepath.pop(possiblepath.index(y[1]))\n",
    "    temp =[]\n",
    "    for x in possiblepath:\n",
    "        if (flowstart.count(x)<1):\n",
    "            temp.append([start,x])\n",
    "            if(end ==x):\n",
    "                print(\"pathfound\",flowstart+[x])\n",
    "            try:\n",
    "                visitednode[level].append([start,x])\n",
    "            except:\n",
    "                visitednode[level]=temp\n",
    "            start =x\n",
    "            level =level+1\n",
    "            front=True\n",
    "            break\n",
    "    else:\n",
    "        print(\"back\")\n",
    "        flowstart.pop()\n",
    "        start = flowstart[len(flowstart)-1]\n",
    "        level = level-1\n",
    "        front=False\n",
    "        if(flowstart == [start]):\n",
    "            if(len(visitednode[level])== len(retunpath(start))):\n",
    "                break"
   ]
  },
  {
   "cell_type": "code",
   "execution_count": 33,
   "id": "e64ef440",
   "metadata": {},
   "outputs": [
    {
     "data": {
      "text/plain": [
       "'C:\\\\Users\\\\sm330'"
      ]
     },
     "execution_count": 33,
     "metadata": {},
     "output_type": "execute_result"
    }
   ],
   "source": [
    "pwd"
   ]
  },
  {
   "cell_type": "code",
   "execution_count": null,
   "id": "e6a13315",
   "metadata": {},
   "outputs": [],
   "source": []
  }
 ],
 "metadata": {
  "kernelspec": {
   "display_name": "Python 3 (ipykernel)",
   "language": "python",
   "name": "python3"
  },
  "language_info": {
   "codemirror_mode": {
    "name": "ipython",
    "version": 3
   },
   "file_extension": ".py",
   "mimetype": "text/x-python",
   "name": "python",
   "nbconvert_exporter": "python",
   "pygments_lexer": "ipython3",
   "version": "3.9.7"
  }
 },
 "nbformat": 4,
 "nbformat_minor": 5
}
